{
  "nbformat": 4,
  "nbformat_minor": 0,
  "metadata": {
    "colab": {
      "provenance": []
    },
    "kernelspec": {
      "name": "python3",
      "display_name": "Python 3"
    },
    "language_info": {
      "name": "python"
    }
  },
  "cells": [
    {
      "cell_type": "code",
      "execution_count": 2,
      "metadata": {
        "colab": {
          "base_uri": "https://localhost:8080/"
        },
        "id": "Ouxy0oWFxUBq",
        "outputId": "716fee30-e8ba-421f-ca5a-3f389ad29bad"
      },
      "outputs": [
        {
          "output_type": "stream",
          "name": "stdout",
          "text": [
            "Collecting pyspark\n",
            "  Downloading pyspark-3.5.1.tar.gz (317.0 MB)\n",
            "\u001b[2K     \u001b[90m━━━━━━━━━━━━━━━━━━━━━━━━━━━━━━━━━━━━━━━━\u001b[0m \u001b[32m317.0/317.0 MB\u001b[0m \u001b[31m2.9 MB/s\u001b[0m eta \u001b[36m0:00:00\u001b[0m\n",
            "\u001b[?25h  Preparing metadata (setup.py) ... \u001b[?25l\u001b[?25hdone\n",
            "Requirement already satisfied: py4j==0.10.9.7 in /usr/local/lib/python3.10/dist-packages (from pyspark) (0.10.9.7)\n",
            "Building wheels for collected packages: pyspark\n",
            "  Building wheel for pyspark (setup.py) ... \u001b[?25l\u001b[?25hdone\n",
            "  Created wheel for pyspark: filename=pyspark-3.5.1-py2.py3-none-any.whl size=317488491 sha256=df53ff8343278105663f8f9da50de07c83b0907d700058d790e28ae9dafdedbd\n",
            "  Stored in directory: /root/.cache/pip/wheels/80/1d/60/2c256ed38dddce2fdd93be545214a63e02fbd8d74fb0b7f3a6\n",
            "Successfully built pyspark\n",
            "Installing collected packages: pyspark\n",
            "Successfully installed pyspark-3.5.1\n"
          ]
        }
      ],
      "source": [
        "pip install pyspark"
      ]
    },
    {
      "cell_type": "code",
      "source": [
        "from pyspark.sql import SparkSession"
      ],
      "metadata": {
        "id": "yt1j1_oJyu7X"
      },
      "execution_count": 3,
      "outputs": []
    },
    {
      "cell_type": "code",
      "source": [
        "spark=SparkSession.builder.appName('linear-regression').getOrCreate()"
      ],
      "metadata": {
        "id": "n83E9e9Byski"
      },
      "execution_count": 7,
      "outputs": []
    },
    {
      "cell_type": "code",
      "source": [
        "spark"
      ],
      "metadata": {
        "colab": {
          "base_uri": "https://localhost:8080/",
          "height": 219
        },
        "id": "sg24RrA_zST0",
        "outputId": "ff94cc06-ae61-448c-fed4-ed2c0f8ae7db"
      },
      "execution_count": 8,
      "outputs": [
        {
          "output_type": "execute_result",
          "data": {
            "text/plain": [
              "<pyspark.sql.session.SparkSession at 0x7d6f8ed7a500>"
            ],
            "text/html": [
              "\n",
              "            <div>\n",
              "                <p><b>SparkSession - in-memory</b></p>\n",
              "                \n",
              "        <div>\n",
              "            <p><b>SparkContext</b></p>\n",
              "\n",
              "            <p><a href=\"http://0d29483e0d6f:4040\">Spark UI</a></p>\n",
              "\n",
              "            <dl>\n",
              "              <dt>Version</dt>\n",
              "                <dd><code>v3.5.1</code></dd>\n",
              "              <dt>Master</dt>\n",
              "                <dd><code>local[*]</code></dd>\n",
              "              <dt>AppName</dt>\n",
              "                <dd><code>linear-regression</code></dd>\n",
              "            </dl>\n",
              "        </div>\n",
              "        \n",
              "            </div>\n",
              "        "
            ]
          },
          "metadata": {},
          "execution_count": 8
        }
      ]
    },
    {
      "cell_type": "code",
      "source": [
        "df=spark.read.csv('/content/Student_Performance.csv',header=True,inferSchema=True)"
      ],
      "metadata": {
        "id": "gC6ZZXbRzinb"
      },
      "execution_count": 29,
      "outputs": []
    },
    {
      "cell_type": "code",
      "source": [
        "df.show()"
      ],
      "metadata": {
        "colab": {
          "base_uri": "https://localhost:8080/"
        },
        "id": "GHfa7_1uznbI",
        "outputId": "3208c367-c533-4d8c-e7a8-c274728dc104"
      },
      "execution_count": 30,
      "outputs": [
        {
          "output_type": "stream",
          "name": "stdout",
          "text": [
            "+-------------+---------------+--------------------------+-----------+--------------------------------+-----------------+\n",
            "|Hours Studied|Previous Scores|Extracurricular Activities|Sleep Hours|Sample Question Papers Practiced|Performance Index|\n",
            "+-------------+---------------+--------------------------+-----------+--------------------------------+-----------------+\n",
            "|            7|             99|                       Yes|          9|                               1|             91.0|\n",
            "|            4|             82|                        No|          4|                               2|             65.0|\n",
            "|            8|             51|                       Yes|          7|                               2|             45.0|\n",
            "|            5|             52|                       Yes|          5|                               2|             36.0|\n",
            "|            7|             75|                        No|          8|                               5|             66.0|\n",
            "|            3|             78|                        No|          9|                               6|             61.0|\n",
            "|            7|             73|                       Yes|          5|                               6|             63.0|\n",
            "|            8|             45|                       Yes|          4|                               6|             42.0|\n",
            "|            5|             77|                        No|          8|                               2|             61.0|\n",
            "|            4|             89|                        No|          4|                               0|             69.0|\n",
            "|            8|             91|                        No|          4|                               5|             84.0|\n",
            "|            8|             79|                        No|          6|                               2|             73.0|\n",
            "|            3|             47|                        No|          9|                               2|             27.0|\n",
            "|            6|             47|                        No|          4|                               2|             33.0|\n",
            "|            5|             79|                        No|          7|                               8|             68.0|\n",
            "|            2|             72|                        No|          4|                               3|             43.0|\n",
            "|            8|             73|                       Yes|          8|                               4|             67.0|\n",
            "|            6|             83|                       Yes|          7|                               2|             70.0|\n",
            "|            2|             54|                       Yes|          4|                               9|             30.0|\n",
            "|            5|             75|                        No|          7|                               0|             63.0|\n",
            "+-------------+---------------+--------------------------+-----------+--------------------------------+-----------------+\n",
            "only showing top 20 rows\n",
            "\n"
          ]
        }
      ]
    },
    {
      "cell_type": "code",
      "source": [
        "from pyspark.ml.feature import StringIndexer"
      ],
      "metadata": {
        "id": "VsW8vFCnzqRr"
      },
      "execution_count": 31,
      "outputs": []
    },
    {
      "cell_type": "code",
      "source": [
        "string=StringIndexer(inputCols=[\"Extracurricular Activities\"],\n",
        "outputCols=[\"Extracurricular Activities_encoded\"])"
      ],
      "metadata": {
        "id": "8dJDn3dxz56G"
      },
      "execution_count": 32,
      "outputs": []
    },
    {
      "cell_type": "code",
      "source": [
        "df=string.fit(df).transform(df)"
      ],
      "metadata": {
        "id": "CtW7NjSl0MA0"
      },
      "execution_count": 33,
      "outputs": []
    },
    {
      "cell_type": "code",
      "source": [
        "df.show()"
      ],
      "metadata": {
        "colab": {
          "base_uri": "https://localhost:8080/"
        },
        "id": "rPE8cZyR0rnQ",
        "outputId": "6dbcae60-d7a1-4604-9ee7-7223ac7e87a4"
      },
      "execution_count": 34,
      "outputs": [
        {
          "output_type": "stream",
          "name": "stdout",
          "text": [
            "+-------------+---------------+--------------------------+-----------+--------------------------------+-----------------+----------------------------------+\n",
            "|Hours Studied|Previous Scores|Extracurricular Activities|Sleep Hours|Sample Question Papers Practiced|Performance Index|Extracurricular Activities_encoded|\n",
            "+-------------+---------------+--------------------------+-----------+--------------------------------+-----------------+----------------------------------+\n",
            "|            7|             99|                       Yes|          9|                               1|             91.0|                               1.0|\n",
            "|            4|             82|                        No|          4|                               2|             65.0|                               0.0|\n",
            "|            8|             51|                       Yes|          7|                               2|             45.0|                               1.0|\n",
            "|            5|             52|                       Yes|          5|                               2|             36.0|                               1.0|\n",
            "|            7|             75|                        No|          8|                               5|             66.0|                               0.0|\n",
            "|            3|             78|                        No|          9|                               6|             61.0|                               0.0|\n",
            "|            7|             73|                       Yes|          5|                               6|             63.0|                               1.0|\n",
            "|            8|             45|                       Yes|          4|                               6|             42.0|                               1.0|\n",
            "|            5|             77|                        No|          8|                               2|             61.0|                               0.0|\n",
            "|            4|             89|                        No|          4|                               0|             69.0|                               0.0|\n",
            "|            8|             91|                        No|          4|                               5|             84.0|                               0.0|\n",
            "|            8|             79|                        No|          6|                               2|             73.0|                               0.0|\n",
            "|            3|             47|                        No|          9|                               2|             27.0|                               0.0|\n",
            "|            6|             47|                        No|          4|                               2|             33.0|                               0.0|\n",
            "|            5|             79|                        No|          7|                               8|             68.0|                               0.0|\n",
            "|            2|             72|                        No|          4|                               3|             43.0|                               0.0|\n",
            "|            8|             73|                       Yes|          8|                               4|             67.0|                               1.0|\n",
            "|            6|             83|                       Yes|          7|                               2|             70.0|                               1.0|\n",
            "|            2|             54|                       Yes|          4|                               9|             30.0|                               1.0|\n",
            "|            5|             75|                        No|          7|                               0|             63.0|                               0.0|\n",
            "+-------------+---------------+--------------------------+-----------+--------------------------------+-----------------+----------------------------------+\n",
            "only showing top 20 rows\n",
            "\n"
          ]
        }
      ]
    },
    {
      "cell_type": "code",
      "source": [
        "df=df.drop('Extracurricular Activities')"
      ],
      "metadata": {
        "id": "hI1mjADX1UhB"
      },
      "execution_count": 37,
      "outputs": []
    },
    {
      "cell_type": "code",
      "source": [
        "df.show()"
      ],
      "metadata": {
        "colab": {
          "base_uri": "https://localhost:8080/"
        },
        "id": "f-pYVUgr1ag4",
        "outputId": "e8a3bdbc-713e-48b5-8984-33c0da24e47b"
      },
      "execution_count": 38,
      "outputs": [
        {
          "output_type": "stream",
          "name": "stdout",
          "text": [
            "+-------------+---------------+-----------+--------------------------------+-----------------+----------------------------------+\n",
            "|Hours Studied|Previous Scores|Sleep Hours|Sample Question Papers Practiced|Performance Index|Extracurricular Activities_encoded|\n",
            "+-------------+---------------+-----------+--------------------------------+-----------------+----------------------------------+\n",
            "|            7|             99|          9|                               1|             91.0|                               1.0|\n",
            "|            4|             82|          4|                               2|             65.0|                               0.0|\n",
            "|            8|             51|          7|                               2|             45.0|                               1.0|\n",
            "|            5|             52|          5|                               2|             36.0|                               1.0|\n",
            "|            7|             75|          8|                               5|             66.0|                               0.0|\n",
            "|            3|             78|          9|                               6|             61.0|                               0.0|\n",
            "|            7|             73|          5|                               6|             63.0|                               1.0|\n",
            "|            8|             45|          4|                               6|             42.0|                               1.0|\n",
            "|            5|             77|          8|                               2|             61.0|                               0.0|\n",
            "|            4|             89|          4|                               0|             69.0|                               0.0|\n",
            "|            8|             91|          4|                               5|             84.0|                               0.0|\n",
            "|            8|             79|          6|                               2|             73.0|                               0.0|\n",
            "|            3|             47|          9|                               2|             27.0|                               0.0|\n",
            "|            6|             47|          4|                               2|             33.0|                               0.0|\n",
            "|            5|             79|          7|                               8|             68.0|                               0.0|\n",
            "|            2|             72|          4|                               3|             43.0|                               0.0|\n",
            "|            8|             73|          8|                               4|             67.0|                               1.0|\n",
            "|            6|             83|          7|                               2|             70.0|                               1.0|\n",
            "|            2|             54|          4|                               9|             30.0|                               1.0|\n",
            "|            5|             75|          7|                               0|             63.0|                               0.0|\n",
            "+-------------+---------------+-----------+--------------------------------+-----------------+----------------------------------+\n",
            "only showing top 20 rows\n",
            "\n"
          ]
        }
      ]
    },
    {
      "cell_type": "code",
      "source": [
        "df.printSchema()"
      ],
      "metadata": {
        "colab": {
          "base_uri": "https://localhost:8080/"
        },
        "id": "7Iuppf5y1pwH",
        "outputId": "4641d399-76d9-493e-e5dc-4196d59e0fdb"
      },
      "execution_count": 39,
      "outputs": [
        {
          "output_type": "stream",
          "name": "stdout",
          "text": [
            "root\n",
            " |-- Hours Studied: integer (nullable = true)\n",
            " |-- Previous Scores: integer (nullable = true)\n",
            " |-- Sleep Hours: integer (nullable = true)\n",
            " |-- Sample Question Papers Practiced: integer (nullable = true)\n",
            " |-- Performance Index: double (nullable = true)\n",
            " |-- Extracurricular Activities_encoded: double (nullable = false)\n",
            "\n"
          ]
        }
      ]
    },
    {
      "cell_type": "code",
      "source": [
        "df.columns"
      ],
      "metadata": {
        "colab": {
          "base_uri": "https://localhost:8080/"
        },
        "id": "Y_O2X3Gl1zCu",
        "outputId": "414d30aa-ad47-4fb7-ef36-6556d50a9da2"
      },
      "execution_count": 40,
      "outputs": [
        {
          "output_type": "execute_result",
          "data": {
            "text/plain": [
              "['Hours Studied',\n",
              " 'Previous Scores',\n",
              " 'Sleep Hours',\n",
              " 'Sample Question Papers Practiced',\n",
              " 'Performance Index',\n",
              " 'Extracurricular Activities_encoded']"
            ]
          },
          "metadata": {},
          "execution_count": 40
        }
      ]
    },
    {
      "cell_type": "code",
      "source": [
        "df.show()"
      ],
      "metadata": {
        "colab": {
          "base_uri": "https://localhost:8080/"
        },
        "id": "waDSw4gh3G7Z",
        "outputId": "d31a3f78-c329-410b-9f2a-7144c1f5907d"
      },
      "execution_count": 43,
      "outputs": [
        {
          "output_type": "stream",
          "name": "stdout",
          "text": [
            "+-------------+---------------+-----------+--------------------------------+-----------------+----------------------------------+\n",
            "|Hours Studied|Previous Scores|Sleep Hours|Sample Question Papers Practiced|Performance Index|Extracurricular Activities_encoded|\n",
            "+-------------+---------------+-----------+--------------------------------+-----------------+----------------------------------+\n",
            "|            7|             99|          9|                               1|             91.0|                               1.0|\n",
            "|            4|             82|          4|                               2|             65.0|                               0.0|\n",
            "|            8|             51|          7|                               2|             45.0|                               1.0|\n",
            "|            5|             52|          5|                               2|             36.0|                               1.0|\n",
            "|            7|             75|          8|                               5|             66.0|                               0.0|\n",
            "|            3|             78|          9|                               6|             61.0|                               0.0|\n",
            "|            7|             73|          5|                               6|             63.0|                               1.0|\n",
            "|            8|             45|          4|                               6|             42.0|                               1.0|\n",
            "|            5|             77|          8|                               2|             61.0|                               0.0|\n",
            "|            4|             89|          4|                               0|             69.0|                               0.0|\n",
            "|            8|             91|          4|                               5|             84.0|                               0.0|\n",
            "|            8|             79|          6|                               2|             73.0|                               0.0|\n",
            "|            3|             47|          9|                               2|             27.0|                               0.0|\n",
            "|            6|             47|          4|                               2|             33.0|                               0.0|\n",
            "|            5|             79|          7|                               8|             68.0|                               0.0|\n",
            "|            2|             72|          4|                               3|             43.0|                               0.0|\n",
            "|            8|             73|          8|                               4|             67.0|                               1.0|\n",
            "|            6|             83|          7|                               2|             70.0|                               1.0|\n",
            "|            2|             54|          4|                               9|             30.0|                               1.0|\n",
            "|            5|             75|          7|                               0|             63.0|                               0.0|\n",
            "+-------------+---------------+-----------+--------------------------------+-----------------+----------------------------------+\n",
            "only showing top 20 rows\n",
            "\n"
          ]
        }
      ]
    },
    {
      "cell_type": "markdown",
      "source": [
        "now we have to convert them into vectors"
      ],
      "metadata": {
        "id": "JE0-kylu2tK2"
      }
    },
    {
      "cell_type": "code",
      "source": [
        "from pyspark.ml.feature  import VectorAssembler"
      ],
      "metadata": {
        "id": "55BaA4Um100B"
      },
      "execution_count": 42,
      "outputs": []
    },
    {
      "cell_type": "code",
      "source": [
        "feature=VectorAssembler(inputCols=[\"Hours Studied\",\"Previous Scores\",\"Sleep Hours\",\"Sample Question Papers Practiced\",\"Extracurricular Activities_encoded\"],\n",
        "    outputCol='independant_features'\n",
        ")"
      ],
      "metadata": {
        "id": "MuMJ6AoB218B"
      },
      "execution_count": 44,
      "outputs": []
    },
    {
      "cell_type": "code",
      "source": [
        "output=feature.transform(df)"
      ],
      "metadata": {
        "id": "-0vcgxRx3flE"
      },
      "execution_count": 46,
      "outputs": []
    },
    {
      "cell_type": "code",
      "source": [
        "output.show()"
      ],
      "metadata": {
        "colab": {
          "base_uri": "https://localhost:8080/"
        },
        "id": "QJHAe4xN3i47",
        "outputId": "2f64595a-b032-4754-acf6-194391611e1e"
      },
      "execution_count": 47,
      "outputs": [
        {
          "output_type": "stream",
          "name": "stdout",
          "text": [
            "+-------------+---------------+-----------+--------------------------------+-----------------+----------------------------------+--------------------+\n",
            "|Hours Studied|Previous Scores|Sleep Hours|Sample Question Papers Practiced|Performance Index|Extracurricular Activities_encoded|independant_features|\n",
            "+-------------+---------------+-----------+--------------------------------+-----------------+----------------------------------+--------------------+\n",
            "|            7|             99|          9|                               1|             91.0|                               1.0|[7.0,99.0,9.0,1.0...|\n",
            "|            4|             82|          4|                               2|             65.0|                               0.0|[4.0,82.0,4.0,2.0...|\n",
            "|            8|             51|          7|                               2|             45.0|                               1.0|[8.0,51.0,7.0,2.0...|\n",
            "|            5|             52|          5|                               2|             36.0|                               1.0|[5.0,52.0,5.0,2.0...|\n",
            "|            7|             75|          8|                               5|             66.0|                               0.0|[7.0,75.0,8.0,5.0...|\n",
            "|            3|             78|          9|                               6|             61.0|                               0.0|[3.0,78.0,9.0,6.0...|\n",
            "|            7|             73|          5|                               6|             63.0|                               1.0|[7.0,73.0,5.0,6.0...|\n",
            "|            8|             45|          4|                               6|             42.0|                               1.0|[8.0,45.0,4.0,6.0...|\n",
            "|            5|             77|          8|                               2|             61.0|                               0.0|[5.0,77.0,8.0,2.0...|\n",
            "|            4|             89|          4|                               0|             69.0|                               0.0|[4.0,89.0,4.0,0.0...|\n",
            "|            8|             91|          4|                               5|             84.0|                               0.0|[8.0,91.0,4.0,5.0...|\n",
            "|            8|             79|          6|                               2|             73.0|                               0.0|[8.0,79.0,6.0,2.0...|\n",
            "|            3|             47|          9|                               2|             27.0|                               0.0|[3.0,47.0,9.0,2.0...|\n",
            "|            6|             47|          4|                               2|             33.0|                               0.0|[6.0,47.0,4.0,2.0...|\n",
            "|            5|             79|          7|                               8|             68.0|                               0.0|[5.0,79.0,7.0,8.0...|\n",
            "|            2|             72|          4|                               3|             43.0|                               0.0|[2.0,72.0,4.0,3.0...|\n",
            "|            8|             73|          8|                               4|             67.0|                               1.0|[8.0,73.0,8.0,4.0...|\n",
            "|            6|             83|          7|                               2|             70.0|                               1.0|[6.0,83.0,7.0,2.0...|\n",
            "|            2|             54|          4|                               9|             30.0|                               1.0|[2.0,54.0,4.0,9.0...|\n",
            "|            5|             75|          7|                               0|             63.0|                               0.0|[5.0,75.0,7.0,0.0...|\n",
            "+-------------+---------------+-----------+--------------------------------+-----------------+----------------------------------+--------------------+\n",
            "only showing top 20 rows\n",
            "\n"
          ]
        }
      ]
    },
    {
      "cell_type": "code",
      "source": [
        "final=output.select(['independant_features','Performance Index'])"
      ],
      "metadata": {
        "id": "MJJqqeHq3sUX"
      },
      "execution_count": 48,
      "outputs": []
    },
    {
      "cell_type": "code",
      "source": [
        "final.show()"
      ],
      "metadata": {
        "colab": {
          "base_uri": "https://localhost:8080/"
        },
        "id": "QleIevKH33XO",
        "outputId": "525f873b-65b9-49bf-f527-785843b3aa71"
      },
      "execution_count": 49,
      "outputs": [
        {
          "output_type": "stream",
          "name": "stdout",
          "text": [
            "+--------------------+-----------------+\n",
            "|independant_features|Performance Index|\n",
            "+--------------------+-----------------+\n",
            "|[7.0,99.0,9.0,1.0...|             91.0|\n",
            "|[4.0,82.0,4.0,2.0...|             65.0|\n",
            "|[8.0,51.0,7.0,2.0...|             45.0|\n",
            "|[5.0,52.0,5.0,2.0...|             36.0|\n",
            "|[7.0,75.0,8.0,5.0...|             66.0|\n",
            "|[3.0,78.0,9.0,6.0...|             61.0|\n",
            "|[7.0,73.0,5.0,6.0...|             63.0|\n",
            "|[8.0,45.0,4.0,6.0...|             42.0|\n",
            "|[5.0,77.0,8.0,2.0...|             61.0|\n",
            "|[4.0,89.0,4.0,0.0...|             69.0|\n",
            "|[8.0,91.0,4.0,5.0...|             84.0|\n",
            "|[8.0,79.0,6.0,2.0...|             73.0|\n",
            "|[3.0,47.0,9.0,2.0...|             27.0|\n",
            "|[6.0,47.0,4.0,2.0...|             33.0|\n",
            "|[5.0,79.0,7.0,8.0...|             68.0|\n",
            "|[2.0,72.0,4.0,3.0...|             43.0|\n",
            "|[8.0,73.0,8.0,4.0...|             67.0|\n",
            "|[6.0,83.0,7.0,2.0...|             70.0|\n",
            "|[2.0,54.0,4.0,9.0...|             30.0|\n",
            "|[5.0,75.0,7.0,0.0...|             63.0|\n",
            "+--------------------+-----------------+\n",
            "only showing top 20 rows\n",
            "\n"
          ]
        }
      ]
    },
    {
      "cell_type": "code",
      "source": [
        "from pyspark.ml.regression import LinearRegression\n",
        "train_data,test_data=final.randomSplit([0.75,0.25])"
      ],
      "metadata": {
        "id": "VfXH9mvX35M6"
      },
      "execution_count": 50,
      "outputs": []
    },
    {
      "cell_type": "code",
      "source": [
        "train_data.show()"
      ],
      "metadata": {
        "colab": {
          "base_uri": "https://localhost:8080/"
        },
        "id": "WpExRxkX4Kl9",
        "outputId": "d98b7eeb-03f2-428b-81de-ef585d867144"
      },
      "execution_count": 51,
      "outputs": [
        {
          "output_type": "stream",
          "name": "stdout",
          "text": [
            "+--------------------+-----------------+\n",
            "|independant_features|Performance Index|\n",
            "+--------------------+-----------------+\n",
            "|[1.0,40.0,4.0,3.0...|             15.0|\n",
            "|[1.0,40.0,4.0,3.0...|             13.0|\n",
            "|[1.0,40.0,4.0,8.0...|             12.0|\n",
            "|[1.0,40.0,5.0,6.0...|             13.0|\n",
            "|[1.0,40.0,5.0,9.0...|             10.0|\n",
            "|[1.0,40.0,5.0,9.0...|             14.0|\n",
            "|[1.0,40.0,6.0,3.0...|             12.0|\n",
            "|[1.0,40.0,6.0,5.0...|             11.0|\n",
            "|[1.0,40.0,6.0,6.0...|             16.0|\n",
            "|[1.0,40.0,7.0,4.0...|             11.0|\n",
            "|[1.0,40.0,8.0,9.0...|             18.0|\n",
            "|[1.0,40.0,9.0,2.0...|             11.0|\n",
            "|[1.0,40.0,9.0,6.0...|             13.0|\n",
            "|[1.0,40.0,9.0,6.0...|             14.0|\n",
            "|[1.0,40.0,9.0,6.0...|             15.0|\n",
            "|[1.0,40.0,9.0,7.0...|             16.0|\n",
            "|[1.0,41.0,4.0,3.0...|             15.0|\n",
            "|[1.0,41.0,5.0,0.0...|             14.0|\n",
            "|[1.0,41.0,5.0,4.0...|             18.0|\n",
            "|[1.0,41.0,5.0,5.0...|             14.0|\n",
            "+--------------------+-----------------+\n",
            "only showing top 20 rows\n",
            "\n"
          ]
        }
      ]
    },
    {
      "cell_type": "code",
      "source": [
        "regressor=LinearRegression(featuresCol=\"independant_features\",\n",
        "      labelCol='Performance Index')"
      ],
      "metadata": {
        "id": "NAfGeRjC4M8k"
      },
      "execution_count": 52,
      "outputs": []
    },
    {
      "cell_type": "code",
      "source": [
        "regressor=regressor.fit(train_data)"
      ],
      "metadata": {
        "id": "TKw1g08w5L05"
      },
      "execution_count": 60,
      "outputs": []
    },
    {
      "cell_type": "code",
      "source": [
        "regressor.intercept"
      ],
      "metadata": {
        "colab": {
          "base_uri": "https://localhost:8080/"
        },
        "id": "s0ARRKar5YrU",
        "outputId": "a1a389c6-94fa-4232-a171-90140172d9b9"
      },
      "execution_count": 61,
      "outputs": [
        {
          "output_type": "execute_result",
          "data": {
            "text/plain": [
              "-34.25749455401062"
            ]
          },
          "metadata": {},
          "execution_count": 61
        }
      ]
    },
    {
      "cell_type": "code",
      "source": [
        "regressor.coefficients"
      ],
      "metadata": {
        "colab": {
          "base_uri": "https://localhost:8080/"
        },
        "id": "j0dloAPS5eG1",
        "outputId": "4ddc39ad-a136-4511-931d-05c602f2cabe"
      },
      "execution_count": 62,
      "outputs": [
        {
          "output_type": "execute_result",
          "data": {
            "text/plain": [
              "DenseVector([2.8489, 1.0191, 0.4955, 0.1996, 0.6205])"
            ]
          },
          "metadata": {},
          "execution_count": 62
        }
      ]
    },
    {
      "cell_type": "code",
      "source": [
        "prediction=regressor.evaluate(test_data)"
      ],
      "metadata": {
        "id": "gSTM1AYN5lK0"
      },
      "execution_count": 63,
      "outputs": []
    },
    {
      "cell_type": "code",
      "source": [
        "prediction.predictions.show()"
      ],
      "metadata": {
        "colab": {
          "base_uri": "https://localhost:8080/"
        },
        "id": "YA3v5KKE5qum",
        "outputId": "2e09265d-b393-47c3-f3ca-aacb1293a189"
      },
      "execution_count": 64,
      "outputs": [
        {
          "output_type": "stream",
          "name": "stdout",
          "text": [
            "+--------------------+-----------------+------------------+\n",
            "|independant_features|Performance Index|        prediction|\n",
            "+--------------------+-----------------+------------------+\n",
            "|[1.0,40.0,4.0,2.0...|             13.0|12.357645550813558|\n",
            "|[1.0,40.0,6.0,0.0...|             15.0|12.328805615174616|\n",
            "|[1.0,40.0,7.0,4.0...|             14.0|13.622755630390188|\n",
            "|[1.0,40.0,7.0,6.0...|             12.0|14.642527875560425|\n",
            "|[1.0,40.0,8.0,5.0...|             16.0|14.317842750268312|\n",
            "|[1.0,40.0,8.0,8.0...|             15.0| 15.53723596055103|\n",
            "|[1.0,41.0,4.0,3.0...|             12.0|12.955850769615402|\n",
            "|[1.0,41.0,6.0,5.0...|             18.0|14.346025009371658|\n",
            "|[1.0,41.0,7.0,3.0...|             12.0|14.442249233912342|\n",
            "|[1.0,41.0,8.0,2.0...|             15.0|15.358624738510777|\n",
            "|[1.0,41.0,8.0,8.0...|             15.0|16.556350529185664|\n",
            "|[1.0,42.0,5.0,5.0...|             12.0|14.869673423240634|\n",
            "|[1.0,42.0,5.0,6.0...|             17.0|15.689824703298392|\n",
            "|[1.0,42.0,5.0,8.0...|             18.0|16.089066633523352|\n",
            "|[1.0,42.0,6.0,3.0...|             20.0|15.586427962726596|\n",
            "|[1.0,42.0,8.0,1.0...|             17.0|16.178118342032917|\n",
            "|[1.0,42.0,8.0,4.0...|             17.0|16.776981237370364|\n",
            "|[1.0,43.0,6.0,9.0...|             18.0| 17.18273800709084|\n",
            "|[1.0,43.0,9.0,0.0...|             17.0|16.872547785375446|\n",
            "|[1.0,43.0,9.0,2.0...|             18.0|17.892320030545683|\n",
            "+--------------------+-----------------+------------------+\n",
            "only showing top 20 rows\n",
            "\n"
          ]
        }
      ]
    },
    {
      "cell_type": "code",
      "source": [
        "prediction.meanAbsoluteError"
      ],
      "metadata": {
        "colab": {
          "base_uri": "https://localhost:8080/"
        },
        "id": "gBJuECoV5v-Z",
        "outputId": "addec569-4c89-40b8-b22d-b0c907872253"
      },
      "execution_count": 65,
      "outputs": [
        {
          "output_type": "execute_result",
          "data": {
            "text/plain": [
              "1.6337503237385156"
            ]
          },
          "metadata": {},
          "execution_count": 65
        }
      ]
    },
    {
      "cell_type": "code",
      "source": [
        "prediction.meanSquaredError"
      ],
      "metadata": {
        "colab": {
          "base_uri": "https://localhost:8080/"
        },
        "id": "PY9cYwpb5647",
        "outputId": "a491e7b5-74da-4f61-8b6d-762253d26bcc"
      },
      "execution_count": 66,
      "outputs": [
        {
          "output_type": "execute_result",
          "data": {
            "text/plain": [
              "4.198098214630204"
            ]
          },
          "metadata": {},
          "execution_count": 66
        }
      ]
    },
    {
      "cell_type": "code",
      "source": [],
      "metadata": {
        "id": "LOVNmMpH592L"
      },
      "execution_count": null,
      "outputs": []
    }
  ]
}